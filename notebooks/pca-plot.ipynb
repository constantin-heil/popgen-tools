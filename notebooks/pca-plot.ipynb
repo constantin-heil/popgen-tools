{
 "cells": [
  {
   "attachments": {},
   "cell_type": "markdown",
   "metadata": {},
   "source": [
    "# Plotting of reference and projected PCA scores"
   ]
  },
  {
   "cell_type": "code",
   "execution_count": 1,
   "metadata": {},
   "outputs": [],
   "source": [
    "import numpy as np\n",
    "import pandas as pd\n",
    "import matplotlib.pyplot as plt\n",
    "from pathlib import Path"
   ]
  },
  {
   "attachments": {},
   "cell_type": "markdown",
   "metadata": {},
   "source": [
    "Helper function to extract a list of variant names from pvar files"
   ]
  },
  {
   "cell_type": "code",
   "execution_count": 10,
   "metadata": {},
   "outputs": [],
   "source": [
    "def read_vars_pvar(pvar_fn):\n",
    "    \"\"\"\n",
    "    Read a pvar file and return list of variant names (3rd column)\n",
    "    Parameters:\n",
    "        pvar_fn: str\n",
    "            Path to pvar file\n",
    "    Returns:\n",
    "        list[str]\n",
    "            List of variant names\n",
    "    \"\"\"\n",
    "    with open(pvar_fn, \"r\") as fh:\n",
    "        var_list = [line.split()[2] for line in fh if not line[0] == \"#\"]\n",
    "        \n",
    "    return var_list[1:]"
   ]
  },
  {
   "attachments": {},
   "cell_type": "markdown",
   "metadata": {},
   "source": [
    "Define paths to the following required files:\n",
    " * reference sample eigenvectors\n",
    " * reference value eigenvalues, for standardization of scores\n",
    " * reference psam file that contains sample metadata\n",
    " * projection for assay file"
   ]
  },
  {
   "cell_type": "code",
   "execution_count": 12,
   "metadata": {},
   "outputs": [],
   "source": [
    "reference_pcs = \"../pcs/all_hg38.eigenvec\"\n",
    "reference_val = \"../pcs/all_hg38.eigenval\"\n",
    "reference_psam = \"../workpath/all_hg38.psam\"\n",
    "assay_pcs = \"../assay_data/NBBR3377.sscore\""
   ]
  },
  {
   "attachments": {},
   "cell_type": "markdown",
   "metadata": {},
   "source": [
    "Load all the files"
   ]
  },
  {
   "cell_type": "code",
   "execution_count": 13,
   "metadata": {},
   "outputs": [],
   "source": [
    "reference_df = pd.read_csv(reference_pcs, sep = '\\t')\n",
    "reference_psam = pd.read_csv(reference_psam, sep = '\\t')\n",
    "reference_val = np.loadtxt(reference_val)\n",
    "assay_df = pd.read_csv(assay_pcs, sep = '\\t')"
   ]
  },
  {
   "attachments": {},
   "cell_type": "markdown",
   "metadata": {},
   "source": [
    "Load the pvar files to do some comparisons on the variants"
   ]
  },
  {
   "cell_type": "code",
   "execution_count": 18,
   "metadata": {},
   "outputs": [],
   "source": [
    "assay_pvar = Path(\"../assay_data/\").glob(\"*pvar\")\n",
    "ref_pvar = \"../workpath/pgen_prune.pvar\"\n",
    "\n",
    "assay_var = set([read_vars_pvar(fn) for fn in assay_pvar][0]) ### List comp form to support future analysis, subset to facilitate current one\n",
    "ref_var = set(read_vars_pvar(ref_pvar))"
   ]
  },
  {
   "attachments": {},
   "cell_type": "markdown",
   "metadata": {},
   "source": [
    "### Obtain quotients of unique variants in each file"
   ]
  },
  {
   "attachments": {},
   "cell_type": "markdown",
   "metadata": {},
   "source": [
    "Assay unique"
   ]
  },
  {
   "cell_type": "code",
   "execution_count": 21,
   "metadata": {},
   "outputs": [
    {
     "data": {
      "text/plain": [
       "0.7604868040903581"
      ]
     },
     "execution_count": 21,
     "metadata": {},
     "output_type": "execute_result"
    }
   ],
   "source": [
    "len(assay_var - ref_var) / len(assay_var)"
   ]
  },
  {
   "attachments": {},
   "cell_type": "markdown",
   "metadata": {},
   "source": [
    "Reference unique"
   ]
  },
  {
   "cell_type": "code",
   "execution_count": 22,
   "metadata": {},
   "outputs": [
    {
     "data": {
      "text/plain": [
       "0.9781898083840687"
      ]
     },
     "execution_count": 22,
     "metadata": {},
     "output_type": "execute_result"
    }
   ],
   "source": [
    "len(ref_var - assay_var) / len(ref_var)"
   ]
  },
  {
   "cell_type": "code",
   "execution_count": 25,
   "metadata": {},
   "outputs": [
    {
     "data": {
      "text/plain": [
       "1101594"
      ]
     },
     "execution_count": 25,
     "metadata": {},
     "output_type": "execute_result"
    }
   ],
   "source": [
    "common_vars = ref_var & assay_var ### Intersect\n",
    "len(common_vars)"
   ]
  },
  {
   "attachments": {},
   "cell_type": "markdown",
   "metadata": {},
   "source": [
    "### Prepare data for plot"
   ]
  },
  {
   "attachments": {},
   "cell_type": "markdown",
   "metadata": {},
   "source": [
    "Merge the principle components with the metadata from the psam file"
   ]
  },
  {
   "cell_type": "code",
   "execution_count": 14,
   "metadata": {},
   "outputs": [],
   "source": [
    "reference_df = reference_df.merge(reference_psam, how = \"inner\", on = \"#IID\")\n",
    "reference_df['SuperPop'] = reference_df['SuperPop'].astype(\"string\")"
   ]
  },
  {
   "attachments": {},
   "cell_type": "markdown",
   "metadata": {},
   "source": [
    "Create a dictionary of a metadata column that allows for different colors "
   ]
  },
  {
   "cell_type": "code",
   "execution_count": 15,
   "metadata": {},
   "outputs": [],
   "source": [
    "pop_uniq = list(set(reference_df['SuperPop']))\n",
    "cm_dic = {e: pop_uniq.index(e) for e in pop_uniq}"
   ]
  },
  {
   "attachments": {},
   "cell_type": "markdown",
   "metadata": {},
   "source": [
    "Plot the reference samples and assay sample. Note that assay coordinates must be divided by $\\sqrt{\\lambda_n}$"
   ]
  },
  {
   "cell_type": "code",
   "execution_count": 16,
   "metadata": {},
   "outputs": [
    {
     "data": {
      "text/plain": [
       "<matplotlib.legend.Legend at 0x7f4600ca2f40>"
      ]
     },
     "execution_count": 16,
     "metadata": {},
     "output_type": "execute_result"
    },
    {
     "data": {
      "image/png": "[encoded data removed]",
      "text/plain": [
       "<Figure size 1000x1000 with 1 Axes>"
      ]
     },
     "metadata": {},
     "output_type": "display_data"
    }
   ],
   "source": [
    "eigenval_sqrt = np.sqrt(reference_val)\n",
    "\n",
    "fig, ax = plt.subplots(figsize = (10, 10))\n",
    "for ix, df in reference_df.groupby(\"SuperPop\"):\n",
    "    ax.scatter(df['PC1'] * eigenval_sqrt[0], df['PC2'] * eigenval_sqrt[1], s = 1, label = ix)\n",
    "    ax.scatter(assay_df['PC1_AVG'] / eigenval_sqrt[0], assay_df['PC2_AVG'] / eigenval_sqrt[1], marker = 'x')\n",
    "    \n",
    "ax.legend()"
   ]
  }
 ],
 "metadata": {
  "kernelspec": {
   "display_name": "py",
   "language": "python",
   "name": "python3"
  },
  "language_info": {
   "codemirror_mode": {
    "name": "ipython",
    "version": 3
   },
   "file_extension": ".py",
   "mimetype": "text/x-python",
   "name": "python",
   "nbconvert_exporter": "python",
   "pygments_lexer": "ipython3",
   "version": "3.9.16"
  },
  "orig_nbformat": 4
 },
 "nbformat": 4,
 "nbformat_minor": 2
}
